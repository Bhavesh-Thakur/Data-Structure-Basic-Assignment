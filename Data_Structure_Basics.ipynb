{
  "nbformat": 4,
  "nbformat_minor": 0,
  "metadata": {
    "colab": {
      "provenance": []
    },
    "kernelspec": {
      "name": "python3",
      "display_name": "Python 3"
    },
    "language_info": {
      "name": "python"
    }
  },
  "cells": [
    {
      "cell_type": "markdown",
      "source": [
        "# 1. Discuss string slicing and provide examples"
      ],
      "metadata": {
        "id": "10kcucx0Mjk8"
      }
    },
    {
      "cell_type": "code",
      "execution_count": 2,
      "metadata": {
        "colab": {
          "base_uri": "https://localhost:8080/"
        },
        "id": "-2jHDdNYMXuE",
        "outputId": "8bd739f1-29b1-4d77-9ec1-54ee1da6d863"
      },
      "outputs": [
        {
          "output_type": "stream",
          "name": "stdout",
          "text": [
            "Hello\n",
            "World\n"
          ]
        }
      ],
      "source": [
        "#  String slicing  allows you to access a subset of a string using a colon-separated syntax within square brackets:\n",
        "\n",
        "# string[start:stop:step].\n",
        "\n",
        "# Basic Slicing:\n",
        "\n",
        "s = \"Hello, World!\"\n",
        "print(s[0:5])\n",
        "print(s[7:12])\n"
      ]
    },
    {
      "cell_type": "code",
      "source": [
        "# Omitting Indices\n",
        "s\n",
        "print(s[:5])\n",
        "print(s[7:])\n",
        "print(s[:])\n"
      ],
      "metadata": {
        "colab": {
          "base_uri": "https://localhost:8080/"
        },
        "id": "BxtnK4tvNPlQ",
        "outputId": "55ff405d-5b87-4339-93f9-c238f9e406ad"
      },
      "execution_count": 3,
      "outputs": [
        {
          "output_type": "stream",
          "name": "stdout",
          "text": [
            "Hello\n",
            "World!\n",
            "Hello, World!\n"
          ]
        }
      ]
    },
    {
      "cell_type": "code",
      "source": [
        "# Negative Indices: It can be used to count from the end of the string.\n",
        "\n",
        "print(s)\n",
        "\n",
        "print(s[-6:-1])  # Output: 'World'\n",
        "print(s[-6:])    # Output: 'World!'\n",
        "print(s[:-7])    # Output: 'Hello,'\n",
        "\n",
        "\n"
      ],
      "metadata": {
        "colab": {
          "base_uri": "https://localhost:8080/"
        },
        "id": "xFBZ33RoN7N3",
        "outputId": "5b26ca4f-0ca9-41ee-b1c9-66b283608f60"
      },
      "execution_count": 6,
      "outputs": [
        {
          "output_type": "stream",
          "name": "stdout",
          "text": [
            "Hello, World!\n",
            "World\n",
            "World!\n",
            "Hello,\n"
          ]
        }
      ]
    },
    {
      "cell_type": "code",
      "source": [
        "# Step : It allows to specify the interval between indices .\n",
        "\n",
        "print(s[::2])\n",
        "print(s[1::2])\n"
      ],
      "metadata": {
        "colab": {
          "base_uri": "https://localhost:8080/",
          "height": 36
        },
        "id": "3alcItpjN-x8",
        "outputId": "4402d156-d224-412f-edcf-6bb87b57947f"
      },
      "execution_count": 5,
      "outputs": [
        {
          "output_type": "execute_result",
          "data": {
            "text/plain": [
              "'Hello, World!'"
            ],
            "application/vnd.google.colaboratory.intrinsic+json": {
              "type": "string"
            }
          },
          "metadata": {},
          "execution_count": 5
        }
      ]
    },
    {
      "cell_type": "code",
      "source": [
        "# Reversing a String: By using a negative step, we can reverse the string.\n",
        "\n",
        "print(s)\n",
        "\n",
        "print()\n",
        "\n",
        "print(s[::-1])\n"
      ],
      "metadata": {
        "colab": {
          "base_uri": "https://localhost:8080/"
        },
        "id": "AyMpuL8rOaYf",
        "outputId": "1bf5b1c2-9ab7-4948-dce1-764a10fdb404"
      },
      "execution_count": 10,
      "outputs": [
        {
          "output_type": "stream",
          "name": "stdout",
          "text": [
            "Hello, World!\n",
            "\n",
            "!dlroW ,olleH\n"
          ]
        }
      ]
    },
    {
      "cell_type": "code",
      "source": [
        "# Combining Slices : You can combine slices with other string operations.\n",
        "\n",
        "\n",
        "print(s[:5] + \" \" + s[7:12])"
      ],
      "metadata": {
        "colab": {
          "base_uri": "https://localhost:8080/"
        },
        "id": "eMmIUwToP0DD",
        "outputId": "940ad7c4-df66-4c7a-edd8-503aa7e6a2a9"
      },
      "execution_count": 12,
      "outputs": [
        {
          "output_type": "stream",
          "name": "stdout",
          "text": [
            "Hello World\n"
          ]
        }
      ]
    },
    {
      "cell_type": "markdown",
      "source": [
        "# 2.  Explain the key features of lists in Python"
      ],
      "metadata": {
        "id": "-shZEFehQdDC"
      }
    },
    {
      "cell_type": "code",
      "source": [
        "# 1. Ordered :\n",
        "\n",
        "\"\"\" Lists maintain the order of items as they are inserted. This means that items can be accessed by their position (index) in the list.\"\"\"\n",
        "\n",
        "my_list = [1, 2, 3, 4]\n",
        "\n",
        "print(my_list[0])\n"
      ],
      "metadata": {
        "colab": {
          "base_uri": "https://localhost:8080/"
        },
        "id": "_2pK_6UwQN6o",
        "outputId": "2ff74290-5e54-4dae-e425-e7080840cfa5"
      },
      "execution_count": 24,
      "outputs": [
        {
          "output_type": "stream",
          "name": "stdout",
          "text": [
            "[1, 2, 3, 4, 5]\n",
            "1\n"
          ]
        }
      ]
    },
    {
      "cell_type": "code",
      "source": [
        "# 2. Mutable:\n",
        "\n",
        "\"\"\" Lists can be modified after their creation.\n",
        "You can change, add, or remove items. \"\"\"\n",
        "\n",
        "my_list[1] = 10\n",
        "\n",
        "print(my_list)\n"
      ],
      "metadata": {
        "colab": {
          "base_uri": "https://localhost:8080/"
        },
        "id": "GHXytElrR2Rm",
        "outputId": "1ba1e63a-9bb7-4fb0-8235-e63359836104"
      },
      "execution_count": 14,
      "outputs": [
        {
          "output_type": "stream",
          "name": "stdout",
          "text": [
            "[1, 10, 3, 4]\n"
          ]
        }
      ]
    },
    {
      "cell_type": "code",
      "source": [
        "# 4. Heterogeneous:\n",
        "\n",
        "\"\"\"Lists can contain items of different data types, including other lists.\"\"\"\n",
        "\n",
        "mixed_list = [1, \"Hello\", 3.14, [1, 2, 3]]\n",
        "\n",
        "print(mixed_list)"
      ],
      "metadata": {
        "colab": {
          "base_uri": "https://localhost:8080/"
        },
        "id": "jSyU8ZkTSTXn",
        "outputId": "0c1fd0eb-e672-4732-d267-840ae5310c52"
      },
      "execution_count": 16,
      "outputs": [
        {
          "output_type": "stream",
          "name": "stdout",
          "text": [
            "[1, 'Hello', 3.14, [1, 2, 3]]\n"
          ]
        }
      ]
    },
    {
      "cell_type": "code",
      "source": [
        "# 5. Indexing and Slicing:\n",
        "\"\"\"\n",
        "Lists support indexing and slicing to access and modify subsets of the list. \"\"\"\n",
        "\n",
        "print(my_list[1])\n",
        "\n",
        "print(my_list[:2])"
      ],
      "metadata": {
        "colab": {
          "base_uri": "https://localhost:8080/"
        },
        "id": "aBThnYgrSqkG",
        "outputId": "4eae791b-03af-454e-d36b-97c093e76a2a"
      },
      "execution_count": 17,
      "outputs": [
        {
          "output_type": "stream",
          "name": "stdout",
          "text": [
            "10\n",
            "[1, 10]\n"
          ]
        }
      ]
    },
    {
      "cell_type": "code",
      "source": [
        "# 6. Comprehensions:\n",
        "\"\"\"\n",
        "Lists support comprehensions, which provide a concise way to create lists. \"\"\"\n",
        "\n",
        "squares = [x**2 for x in range(5)]\n",
        "\n",
        "print(squares)"
      ],
      "metadata": {
        "colab": {
          "base_uri": "https://localhost:8080/"
        },
        "id": "_1XP4ILES9GT",
        "outputId": "899f5c0f-889e-4d7a-b4e3-7c67774fdcae"
      },
      "execution_count": 19,
      "outputs": [
        {
          "output_type": "stream",
          "name": "stdout",
          "text": [
            "[0, 1, 4, 9, 16]\n"
          ]
        }
      ]
    },
    {
      "cell_type": "code",
      "source": [
        "# 7. Built-in Methods :\n",
        "\"\"\"\n",
        "Lists come with a variety of built-in methods for common operations. \"\"\"\n",
        "\n",
        "my_list = [1, 2, 3, 4, 5]\n",
        "\n",
        "my_list.append(6)        # Adds an item to the end\n",
        "print(my_list)\n",
        "\n",
        "my_list.insert(2, 10)    # Inserts an item at a specific index\n",
        "print(my_list)\n",
        "\n",
        "my_list.pop()            # Removes and returns the last item\n",
        "print(my_list)\n",
        "\n",
        "my_list.remove(10)       # Removes the first occurrence of a specific item\n",
        "print(my_list)\n",
        "\n",
        "my_list.reverse()        # Reverses the list in place\n",
        "print(my_list)\n",
        "\n",
        "my_list.sort()           # Sorts the list in ascending order\n",
        "print(my_list)"
      ],
      "metadata": {
        "colab": {
          "base_uri": "https://localhost:8080/"
        },
        "id": "zcOXhvbzTPtk",
        "outputId": "4802f630-247d-4416-8eba-16b36dd5dfcc"
      },
      "execution_count": 20,
      "outputs": [
        {
          "output_type": "stream",
          "name": "stdout",
          "text": [
            "[1, 2, 3, 4, 5, 6]\n",
            "[1, 2, 10, 3, 4, 5, 6]\n",
            "[1, 2, 10, 3, 4, 5]\n",
            "[1, 2, 3, 4, 5]\n",
            "[5, 4, 3, 2, 1]\n",
            "[1, 2, 3, 4, 5]\n"
          ]
        }
      ]
    },
    {
      "cell_type": "code",
      "source": [
        "# 8. Iteration:\n",
        "\"\"\"\n",
        "You can iterate over the items in a list using a loop. \"\"\"\n",
        "\n",
        "for item in my_list:\n",
        "    print(item)"
      ],
      "metadata": {
        "colab": {
          "base_uri": "https://localhost:8080/"
        },
        "id": "7_-7nxNJTyeH",
        "outputId": "75d30d2e-b18c-47d3-f655-a5f27b4e9d88"
      },
      "execution_count": 21,
      "outputs": [
        {
          "output_type": "stream",
          "name": "stdout",
          "text": [
            "1\n",
            "2\n",
            "3\n",
            "4\n",
            "5\n"
          ]
        }
      ]
    },
    {
      "cell_type": "code",
      "source": [
        "# 9. Nested Lists ;\n",
        "\"\"\"\n",
        "Lists can contain other lists, allowing for the creation of complex data structures like matrices.\"\"\"\n",
        "\n",
        "matrix = [[1, 2, 3], [4, 5, 6], [7, 8, 9]]\n",
        "\n",
        "print(matrix[1][2])"
      ],
      "metadata": {
        "colab": {
          "base_uri": "https://localhost:8080/"
        },
        "id": "H0hmYT4wUD0V",
        "outputId": "a2336cf3-60b4-4d04-a353-7bf2370c0a42"
      },
      "execution_count": 22,
      "outputs": [
        {
          "output_type": "stream",
          "name": "stdout",
          "text": [
            "6\n"
          ]
        }
      ]
    },
    {
      "cell_type": "code",
      "source": [
        "# 10. Length:\n",
        "\"\"\"\n",
        "The length of a list can be determined using the len() function. \"\"\"\n",
        "\n",
        "print(len(my_list))"
      ],
      "metadata": {
        "colab": {
          "base_uri": "https://localhost:8080/"
        },
        "id": "vyzlgofhUSgs",
        "outputId": "1734d7a1-7485-4ca9-93ca-19599c75b205"
      },
      "execution_count": 23,
      "outputs": [
        {
          "output_type": "stream",
          "name": "stdout",
          "text": [
            "5\n"
          ]
        }
      ]
    },
    {
      "cell_type": "markdown",
      "source": [
        "# 3.  Describe how to access, modify, and delete elements in a list with examples"
      ],
      "metadata": {
        "id": "rq0T3T0jU94Q"
      }
    },
    {
      "cell_type": "code",
      "source": [
        "# Accessing Elements:\n",
        "\n",
        "# 1. By Index:\n",
        "\n",
        "my_list = [10, 20, 30, 40, 50]\n",
        "\n",
        "print(my_list[0])\n",
        "\n"
      ],
      "metadata": {
        "colab": {
          "base_uri": "https://localhost:8080/"
        },
        "id": "8931qCq3U4JM",
        "outputId": "e1deafa4-5b82-4b15-c90c-bc42f1afb005"
      },
      "execution_count": 28,
      "outputs": [
        {
          "output_type": "stream",
          "name": "stdout",
          "text": [
            "10\n"
          ]
        }
      ]
    },
    {
      "cell_type": "code",
      "source": [
        "# 2. Negative Indexing:  Negative indices can be used to access elements from the end of the list.\n",
        "\n",
        "print(my_list[-1])\n",
        "\n",
        "print(my_list[-3])"
      ],
      "metadata": {
        "colab": {
          "base_uri": "https://localhost:8080/"
        },
        "id": "nu7BGV_cVs2B",
        "outputId": "03695c21-cf52-4581-d6a8-0ede9bd0026e"
      },
      "execution_count": 29,
      "outputs": [
        {
          "output_type": "stream",
          "name": "stdout",
          "text": [
            "50\n",
            "30\n"
          ]
        }
      ]
    },
    {
      "cell_type": "code",
      "source": [
        "# 3. Slicing:  Slicing allows you to access a range of elements.\n",
        "\n",
        "print(my_list[1:4])\n",
        "print(my_list[:3])\n",
        "print(my_list[2:])\n",
        "print(my_list[::2])"
      ],
      "metadata": {
        "colab": {
          "base_uri": "https://localhost:8080/"
        },
        "id": "7Q5ZIQQ6V-HO",
        "outputId": "f87cbcc7-2906-4448-aecc-6bf3caa46185"
      },
      "execution_count": 30,
      "outputs": [
        {
          "output_type": "stream",
          "name": "stdout",
          "text": [
            "[20, 30, 40]\n",
            "[10, 20, 30]\n",
            "[30, 40, 50]\n",
            "[10, 30, 50]\n"
          ]
        }
      ]
    },
    {
      "cell_type": "markdown",
      "source": [
        "# Modifying Elements"
      ],
      "metadata": {
        "id": "5NymsbUPWfDH"
      }
    },
    {
      "cell_type": "code",
      "source": [
        "# By Index: You can assign a new value to an element at a specific index.\n",
        "\n",
        "my_list = [10, 20, 30, 40, 50]\n",
        "\n",
        "my_list[1] = 25\n",
        "print(my_list)"
      ],
      "metadata": {
        "colab": {
          "base_uri": "https://localhost:8080/"
        },
        "id": "uznW_GUSWL0I",
        "outputId": "69f311d6-2a0e-466e-f4ab-a93d76e8cbe6"
      },
      "execution_count": 32,
      "outputs": [
        {
          "output_type": "stream",
          "name": "stdout",
          "text": [
            "[10, 25, 30, 40, 50]\n"
          ]
        }
      ]
    },
    {
      "cell_type": "code",
      "source": [
        "# 3 Using Slicing:  You can modify multiple elements at once using slicing.\n",
        "\n",
        "my_list[1:3] = [35, 45]\n",
        "\n",
        "print(my_list)"
      ],
      "metadata": {
        "colab": {
          "base_uri": "https://localhost:8080/"
        },
        "id": "hSB4oX7xWts9",
        "outputId": "ca18fd90-7241-4277-c9d0-bf333dfd4b48"
      },
      "execution_count": 33,
      "outputs": [
        {
          "output_type": "stream",
          "name": "stdout",
          "text": [
            "[10, 35, 45, 40, 50]\n"
          ]
        }
      ]
    },
    {
      "cell_type": "markdown",
      "source": [
        "# Deleting Elements"
      ],
      "metadata": {
        "id": "2Ft-b3QlXQbq"
      }
    },
    {
      "cell_type": "code",
      "source": [
        "# Using del Statement:  You can delete an element by its index.\n",
        "\n",
        "my_list = [10, 20, 30, 40, 50]\n",
        "\n",
        "del my_list[1]\n",
        "print(my_list)"
      ],
      "metadata": {
        "colab": {
          "base_uri": "https://localhost:8080/"
        },
        "id": "DxUhFVYXXJCo",
        "outputId": "4b0c02f2-0258-4fea-b80d-05bafcf4aa53"
      },
      "execution_count": 34,
      "outputs": [
        {
          "output_type": "stream",
          "name": "stdout",
          "text": [
            "[10, 30, 40, 50]\n"
          ]
        }
      ]
    },
    {
      "cell_type": "code",
      "source": [
        "# Using remove() Method:  This  removes the first occurrence of a specific value.\n",
        "\n",
        "my_list.remove(40)\n",
        "print(my_list)\n"
      ],
      "metadata": {
        "colab": {
          "base_uri": "https://localhost:8080/"
        },
        "id": "-MpGJbLbXmHq",
        "outputId": "0da089bd-f119-45bd-d925-01bffb609715"
      },
      "execution_count": 36,
      "outputs": [
        {
          "output_type": "stream",
          "name": "stdout",
          "text": [
            "[10, 30, 50]\n"
          ]
        }
      ]
    },
    {
      "cell_type": "code",
      "source": [
        "# Using pop() Method: This removes and returns an element at a specific index. If no index is specified, it removes and returns the last element.\n",
        "\n",
        "\n",
        "my_list = [10, 20, 30, 40, 50]\n",
        "\n",
        "last_element = my_list.pop()\n",
        "\n",
        "print(last_element)\n",
        "print(my_list)\n",
        "\n",
        "element = my_list.pop(0)\n",
        "print(element)\n",
        "print(my_list)\n"
      ],
      "metadata": {
        "colab": {
          "base_uri": "https://localhost:8080/"
        },
        "id": "KWyUVm9yX0IR",
        "outputId": "91ee2278-37eb-45bb-de12-60b6e90a1ddb"
      },
      "execution_count": 39,
      "outputs": [
        {
          "output_type": "stream",
          "name": "stdout",
          "text": [
            "50\n",
            "[10, 20, 30, 40]\n",
            "10\n",
            "[20, 30, 40]\n"
          ]
        }
      ]
    },
    {
      "cell_type": "code",
      "source": [
        "# Using Slicing:  You can delete a range of elements.\n",
        "\n",
        "my_list = [10, 20, 30, 40, 50]\n",
        "del my_list[1:3]\n",
        "print(my_list)"
      ],
      "metadata": {
        "colab": {
          "base_uri": "https://localhost:8080/"
        },
        "id": "9HuMlG1mYesj",
        "outputId": "844aa0b0-a58e-4727-e8a2-831574ada531"
      },
      "execution_count": 40,
      "outputs": [
        {
          "output_type": "stream",
          "name": "stdout",
          "text": [
            "[10, 40, 50]\n"
          ]
        }
      ]
    },
    {
      "cell_type": "code",
      "source": [
        "# Clearing the List: You can remove all elements from a list.\n",
        "\n",
        "my_list.clear()\n",
        "print(my_list)"
      ],
      "metadata": {
        "colab": {
          "base_uri": "https://localhost:8080/"
        },
        "id": "fjhOIDP5ZAmE",
        "outputId": "7eb9c3e8-b221-4578-c555-4344d55d593d"
      },
      "execution_count": 41,
      "outputs": [
        {
          "output_type": "stream",
          "name": "stdout",
          "text": [
            "[]\n"
          ]
        }
      ]
    },
    {
      "cell_type": "markdown",
      "source": [
        "# 4.  Compare and contrast tuples and lists with examples"
      ],
      "metadata": {
        "id": "U8MbiAK7Za_H"
      }
    },
    {
      "cell_type": "code",
      "source": [
        "#  Similarities:\n",
        "\n",
        "\"\"\"\n",
        "1. Ordered: Both tuples and lists maintain the order of elements.\n",
        "2. Indexing and Slicing: Both support indexing and slicing.\n",
        "3. Can Contain Mixed Data Types: Both can store elements of different data types, including other lists and tuples.\"\"\"\n",
        "\n",
        "#  Differences:\n",
        "\"\"\"\n",
        "1. Mutability:\n",
        " Lists: Mutable, meaning you can modify, add, or remove elements after creation.\n",
        " Tuples: Immutable, meaning once they are created, you cannot change, add, or remove elements. \"\"\"\n",
        "\n",
        "my_list = [1, 2, 3]\n",
        "my_list[0] = 10\n",
        "print(my_list)\n",
        "\n",
        "# Tuple\n",
        "my_tuple = (1, 2, 3)\n",
        "\n",
        "# my_tuple[0]       # Gives an error"
      ],
      "metadata": {
        "colab": {
          "base_uri": "https://localhost:8080/"
        },
        "id": "P5nQ5s5lZNlQ",
        "outputId": "e24df23b-d4b0-47a4-a964-ae8a87bab9c5"
      },
      "execution_count": 42,
      "outputs": [
        {
          "output_type": "stream",
          "name": "stdout",
          "text": [
            "[10, 2, 3]\n"
          ]
        }
      ]
    },
    {
      "cell_type": "code",
      "source": [
        "2. # Syntax:\n",
        "\"\"\"\n",
        "Lists: Created using square brackets [].\n",
        "Tuples: Created using parentheses (). \"\"\"\n",
        "\n",
        "my_list = [1, 2, 3]\n",
        "my_tuple = (1, 2, 3)\n"
      ],
      "metadata": {
        "id": "IQEXbr5dbRV4"
      },
      "execution_count": 43,
      "outputs": []
    },
    {
      "cell_type": "code",
      "source": [
        "3. # Use Cases:\n",
        "\"\"\" List : when we needs the data  to be updated or reordered.\n",
        "    Tuples : When we don't want the data to be changed.\"\"\""
      ],
      "metadata": {
        "colab": {
          "base_uri": "https://localhost:8080/",
          "height": 36
        },
        "id": "Tbu3rJzbbexm",
        "outputId": "ddf43f9f-f294-4f3b-8d12-780517a721ed"
      },
      "execution_count": 47,
      "outputs": [
        {
          "output_type": "execute_result",
          "data": {
            "text/plain": [
              "\" List : when we needs the data  to be updated or reordered.\\n    Tuples : When we don't want the data to be changed.\""
            ],
            "application/vnd.google.colaboratory.intrinsic+json": {
              "type": "string"
            }
          },
          "metadata": {},
          "execution_count": 47
        }
      ]
    },
    {
      "cell_type": "code",
      "source": [
        "# 4.  Methods:\n",
        "\"\"\"\n",
        "Lists: Have a variety of methods for modifying the list, such as append(), remove(), pop(), clear(), sort(), and reverse().\n",
        "Tuples: Have fewer methods, mainly count() and index(), as they cannot be modified. \"\"\"\n",
        "\n",
        "# List\n",
        "my_list = [1, 2, 3]\n",
        "my_list.append(4)\n",
        "print(my_list)\n",
        "\n",
        "# Tuple\n",
        "my_tuple = (1, 2, 3)\n",
        "print(my_tuple.count(2))\n",
        "print(my_tuple.index(3))"
      ],
      "metadata": {
        "colab": {
          "base_uri": "https://localhost:8080/"
        },
        "id": "hRPUzLgdcXGs",
        "outputId": "3f24d110-8e3b-4107-ea6f-238ff0f533ba"
      },
      "execution_count": 46,
      "outputs": [
        {
          "output_type": "stream",
          "name": "stdout",
          "text": [
            "[1, 2, 3, 4]\n",
            "1\n",
            "2\n"
          ]
        }
      ]
    },
    {
      "cell_type": "markdown",
      "source": [
        "# 5.Describe the key features of sets and provide examples of their use"
      ],
      "metadata": {
        "id": "eKNt_nqsdCVd"
      }
    },
    {
      "cell_type": "code",
      "source": [
        "# Key Features of Sets:\n",
        "\"\"\"\n",
        "1. Unordered:\n",
        "\n",
        "Sets do not maintain any order of elements. As a result, you cannot access elements via an index.\n",
        "\n",
        "2. Unique Elements:\n",
        "\n",
        "Sets automatically ensure all elements are unique. Any duplicate elements are removed.\n",
        "\n",
        "3. Mutable:\n",
        "\n",
        "Sets are mutable, meaning you can add or remove elements after creation.\n",
        "\n",
        "4. Set Operations:\n",
        "\n",
        "Sets support common mathematical operations like union, intersection, difference, and symmetric difference.\n",
        "\n",
        "5. Dynamic Size:\n",
        "\n",
        "Sets can grow and shrink dynamically as you add and remove elements.\n",
        "\n",
        "6. Hashable Elements:\n",
        "\n",
        "Elements in a set must be hashable (immutable), such as numbers, strings, or tuples.\"\"\""
      ],
      "metadata": {
        "id": "g9NXZM30cmWc"
      },
      "execution_count": null,
      "outputs": []
    },
    {
      "cell_type": "code",
      "source": [
        "# Creating Sets: Sets can be created using curly braces {} or the set() function.\n",
        "\n",
        "my_set = {1, 2, 3, 4}\n",
        "another_set = set([1, 2, 2, 3, 4])\n",
        "print(my_set)\n",
        "print(another_set)"
      ],
      "metadata": {
        "colab": {
          "base_uri": "https://localhost:8080/"
        },
        "id": "IYOfjdJfe6sd",
        "outputId": "5aca3c3a-20b8-4e55-f00b-e037fcfc7865"
      },
      "execution_count": 48,
      "outputs": [
        {
          "output_type": "stream",
          "name": "stdout",
          "text": [
            "{1, 2, 3, 4}\n",
            "{1, 2, 3, 4}\n"
          ]
        }
      ]
    },
    {
      "cell_type": "code",
      "source": [
        "# Adding and Removing Elements\n",
        "\"\"\"\n",
        "1. Adding Elements:\n",
        "\n",
        "Use the add() method to add a single element.\n",
        "Use the update() method to add multiple elements. \"\"\"\n",
        "\n",
        "my_set = {1, 2, 3, 4}\n",
        "\n",
        "my_set.add(5)\n",
        "print(my_set)\n",
        "\n",
        "my_set.update([6, 7])\n",
        "print(my_set)\n",
        "\n",
        "print()\n",
        "\n",
        "# 2. Removing Elements:\n",
        "\"\"\"\n",
        "Use the remove() method to remove an element (raises an error if the element is not found).\n",
        "Use the discard() method to remove an element (does not raise an error if the element is not found).\n",
        "Use the pop() method to remove and return an arbitrary element.\n",
        "Use the clear() method to remove all elements from the set.  \"\"\"\n",
        "\n",
        "my_set.remove(6)\n",
        "print(my_set)\n",
        "\n",
        "my_set.discard(10)\n",
        "\n",
        "popped_element = my_set.pop()\n",
        "print(popped_element)\n",
        "print(my_set)\n",
        "\n",
        "my_set.clear()\n",
        "print(my_set)"
      ],
      "metadata": {
        "colab": {
          "base_uri": "https://localhost:8080/"
        },
        "id": "PZovQ_R4fG0N",
        "outputId": "746d6abd-97fb-4b45-dbf8-656cb6689bdc"
      },
      "execution_count": 53,
      "outputs": [
        {
          "output_type": "stream",
          "name": "stdout",
          "text": [
            "{1, 2, 3, 4, 5}\n",
            "{1, 2, 3, 4, 5, 6, 7}\n",
            "\n",
            "{1, 2, 3, 4, 5, 7}\n",
            "1\n",
            "{2, 3, 4, 5, 7}\n",
            "set()\n"
          ]
        }
      ]
    },
    {
      "cell_type": "code",
      "source": [
        "# Set Operations:\n",
        "\"\"\"\n",
        "1. Union (| or union()):\n",
        "Combines elements from both sets. \"\"\"\n",
        "\n",
        "set1 = {1, 2, 3}\n",
        "set2 = {3, 4, 5}\n",
        "union_set = set1 | set2\n",
        "print(union_set)"
      ],
      "metadata": {
        "colab": {
          "base_uri": "https://localhost:8080/"
        },
        "id": "lmASvk2tfUg6",
        "outputId": "fa204fc2-5245-4d9c-e09c-e3d3dc4008af"
      },
      "execution_count": 54,
      "outputs": [
        {
          "output_type": "stream",
          "name": "stdout",
          "text": [
            "{1, 2, 3, 4, 5}\n"
          ]
        }
      ]
    },
    {
      "cell_type": "code",
      "source": [
        "# 2. Intersection (& or intersection()):\n",
        "\"\"\"\n",
        "Includes only elements present in both sets. \"\"\"\n",
        "\n",
        "intersection_set = set1 & set2\n",
        "print(intersection_set)"
      ],
      "metadata": {
        "colab": {
          "base_uri": "https://localhost:8080/"
        },
        "id": "Zc4qDC-chdrx",
        "outputId": "892f6f67-4a9f-446f-d16d-1b1c0684d604"
      },
      "execution_count": 55,
      "outputs": [
        {
          "output_type": "stream",
          "name": "stdout",
          "text": [
            "{3}\n"
          ]
        }
      ]
    },
    {
      "cell_type": "code",
      "source": [
        "# 3. Difference (- or difference()):\n",
        "\"\"\"\n",
        "Includes elements present in the first set but not in the second set. \"\"\"\n",
        "\n",
        "difference_set = set1 - set2\n",
        "print(difference_set)"
      ],
      "metadata": {
        "colab": {
          "base_uri": "https://localhost:8080/"
        },
        "id": "YnSPeoEKhqMb",
        "outputId": "e0d18f45-4905-4373-ac5c-9786b7921817"
      },
      "execution_count": 56,
      "outputs": [
        {
          "output_type": "stream",
          "name": "stdout",
          "text": [
            "{1, 2}\n"
          ]
        }
      ]
    },
    {
      "cell_type": "code",
      "source": [
        "# 4. Symmetric Difference (^ or symmetric_difference()):\n",
        "\"\"\"\n",
        "Includes elements present in either set, but not in both. \"\"\"\n",
        "\n",
        "symmetric_difference_set = set1 ^ set2\n",
        "print(symmetric_difference_set)"
      ],
      "metadata": {
        "colab": {
          "base_uri": "https://localhost:8080/"
        },
        "id": "unOfaaYBhzEx",
        "outputId": "882700db-8c7f-4867-f53c-53b8a6bd344e"
      },
      "execution_count": 57,
      "outputs": [
        {
          "output_type": "stream",
          "name": "stdout",
          "text": [
            "{1, 2, 4, 5}\n"
          ]
        }
      ]
    },
    {
      "cell_type": "code",
      "source": [
        "# Checking Membership:\n",
        "\"\"\"\n",
        "Use the in keyword to check if an element is in a set. \"\"\"\n",
        "\n",
        "\n",
        "print(2 in set1)\n",
        "print(6 in set1)"
      ],
      "metadata": {
        "colab": {
          "base_uri": "https://localhost:8080/"
        },
        "id": "JiKz4lVoiDkw",
        "outputId": "6d53a1c5-f62e-477d-8462-9d473f27ae8e"
      },
      "execution_count": 58,
      "outputs": [
        {
          "output_type": "stream",
          "name": "stdout",
          "text": [
            "True\n",
            "False\n"
          ]
        }
      ]
    },
    {
      "cell_type": "code",
      "source": [
        "# Removing Duplicates from a List:\n",
        "\"\"\"\n",
        "Convert a list to a set to remove duplicates and then back to a list. \"\"\"\n",
        "\n",
        "my_list = [1, 2, 2, 3, 4, 4, 5]\n",
        "unique_list = list(set(my_list))\n",
        "print(unique_list)"
      ],
      "metadata": {
        "colab": {
          "base_uri": "https://localhost:8080/"
        },
        "id": "rbDQEzJWiN7G",
        "outputId": "487c206b-d0a9-4f21-9a5b-6b681fb5dfd9"
      },
      "execution_count": 59,
      "outputs": [
        {
          "output_type": "stream",
          "name": "stdout",
          "text": [
            "[1, 2, 3, 4, 5]\n"
          ]
        }
      ]
    },
    {
      "cell_type": "markdown",
      "source": [
        "# 6. Discuss the use cases of tuples and sets in Python programming."
      ],
      "metadata": {
        "id": "EhbYghdYiukV"
      }
    },
    {
      "cell_type": "code",
      "source": [
        "# Use Cases for Tuples:\n",
        "\n",
        "# 1. Fixed Collections of Items: When you need to store a fixed collection of items that should not change, tuples are ideal.\n",
        "\n",
        "coordinates = (10.0, 20.0)\n",
        "\n",
        "\n"
      ],
      "metadata": {
        "id": "Z1xkM-f7ioLC"
      },
      "execution_count": 60,
      "outputs": []
    },
    {
      "cell_type": "code",
      "source": [
        "# 2. returning Multiple Values from Functions:\n",
        "\n",
        "\"\"\" Functions can return multiple values packed in a tuple, making it easy to return more than one result. \"\"\"\n",
        "\n",
        "\n",
        "def get_min_max(numbers):\n",
        "    return (min(numbers), max(numbers))\n",
        "\n",
        "min_val, max_val = get_min_max([1, 2, 3, 4, 5])\n",
        "print(min_val, max_val )"
      ],
      "metadata": {
        "colab": {
          "base_uri": "https://localhost:8080/"
        },
        "id": "c9jz6cEKjwjC",
        "outputId": "83413596-500a-4074-c3ec-17b5a8900b7d"
      },
      "execution_count": 63,
      "outputs": [
        {
          "output_type": "stream",
          "name": "stdout",
          "text": [
            "1 5\n"
          ]
        }
      ]
    },
    {
      "cell_type": "code",
      "source": [
        "# 3. Unpacking and Parallel Assignment:\n",
        "\"\"\"\n",
        "Tuples support unpacking, which allows you to assign multiple variables in a single statement. \"\"\"\n",
        "\n",
        "person = (\"John\", \"Doe\", 30)\n",
        "first_name, last_name, age = person\n",
        "print(person)\n"
      ],
      "metadata": {
        "colab": {
          "base_uri": "https://localhost:8080/"
        },
        "id": "LOCSk3lCj8x8",
        "outputId": "2a3765d0-16a4-48f2-8286-4e1dc23bd3ba"
      },
      "execution_count": 67,
      "outputs": [
        {
          "output_type": "stream",
          "name": "stdout",
          "text": [
            "('John', 'Doe', 30)\n"
          ]
        }
      ]
    },
    {
      "cell_type": "code",
      "source": [
        "# 4.  Immutable Records:\n",
        "\"\"\"\n",
        "When you want to create a record that should not be changed, such as a database record or a configuration, tuples are useful. \"\"\"\n",
        "\n",
        "db_record = (1234, \"Alice\", \"HR\", 50000)"
      ],
      "metadata": {
        "id": "M4ZN826WkYEf"
      },
      "execution_count": 68,
      "outputs": []
    },
    {
      "cell_type": "code",
      "source": [
        "# 5. Keys in Dictionaries:\n",
        "\"\"\"\n",
        "\n",
        "Tuples can be used as keys in dictionaries because they are immutable and hashable. \"\"\"\n",
        "\n",
        "phonebook = {(\"John\", \"Doe\"): \"123-456-7890\", (\"Jane\", \"Doe\"): \"098-765-4321\"}\n",
        "\n",
        "# 6. Heterogeneous Data:\n",
        "\"\"\"\n",
        "When storing heterogeneous data (different data types), tuples are a natural fit. \"\"\"\n",
        "\n",
        "mixed_tuple = (1, \"apple\", 3.14, [1, 2, 3])"
      ],
      "metadata": {
        "id": "tibBqeM8k3Ss"
      },
      "execution_count": 69,
      "outputs": []
    },
    {
      "cell_type": "markdown",
      "source": [
        "# Use cases of set"
      ],
      "metadata": {
        "id": "fpl70kYklgQQ"
      }
    },
    {
      "cell_type": "code",
      "source": [
        "\n",
        "# 1. Removing Duplicates from a Collection:\n",
        "\"\"\"\n",
        "Converting a list to a set removes duplicates, which is useful for data cleansing. \"\"\"\n",
        "\n",
        "numbers = [1, 2, 2, 3, 4, 4, 5]\n",
        "unique_numbers = set(numbers)\n",
        "print(unique_numbers)"
      ],
      "metadata": {
        "colab": {
          "base_uri": "https://localhost:8080/"
        },
        "id": "_UA-godHlMS3",
        "outputId": "0e19fd6d-821a-469a-93b9-d13858155585"
      },
      "execution_count": 72,
      "outputs": [
        {
          "output_type": "stream",
          "name": "stdout",
          "text": [
            "{1, 2, 3, 4, 5}\n"
          ]
        }
      ]
    },
    {
      "cell_type": "code",
      "source": [
        "# 2. Membership Testing:\n",
        "\"\"\"\n",
        "Sets provide an efficient way to test for membership, making them ideal for scenarios where you need to check if an item is in a collection.\"\"\"\n",
        "\n",
        "valid_codes = {\"ABC\", \"XYZ\", \"123\"}\n",
        "code = \"XYZ\"\n",
        "if code in valid_codes:\n",
        "    print(\"Valid code\")"
      ],
      "metadata": {
        "colab": {
          "base_uri": "https://localhost:8080/"
        },
        "id": "IYNX47K6lSuv",
        "outputId": "a07614cc-4270-4928-e3fa-0e62475943ea"
      },
      "execution_count": 74,
      "outputs": [
        {
          "output_type": "stream",
          "name": "stdout",
          "text": [
            "Valid code\n"
          ]
        }
      ]
    },
    {
      "cell_type": "code",
      "source": [
        "# 3.Set Operations (Union, Intersection, Difference):\n",
        "\"\"\"\n",
        "Sets support mathematical operations that are useful in various applications such as data analysis, comparing datasets, and finding common or unique elements. \"\"\"\n",
        "\n",
        "set_a = {1, 2, 3, 4}\n",
        "set_b = {3, 4, 5, 6}\n",
        "\n",
        "union = set_a | set_b\n",
        "intersection = set_a & set_b\n",
        "difference = set_a - set_b\n",
        "symmetric_difference = set_a ^ set_b"
      ],
      "metadata": {
        "id": "We0S5RQHl9mJ"
      },
      "execution_count": 75,
      "outputs": []
    },
    {
      "cell_type": "code",
      "source": [
        "# 4.Unique Elements:\n",
        "\"\"\"\n",
        "Use sets to maintain a collection of unique elements, such as tracking unique visitors to a website. \"\"\"\n",
        "\n",
        "unique_visitors = set()\n",
        "unique_visitors.add(\"user1\")\n",
        "unique_visitors.add(\"user2\")\n",
        "unique_visitors.add(\"user1\")\n",
        "\n",
        "print(unique_visitors)"
      ],
      "metadata": {
        "colab": {
          "base_uri": "https://localhost:8080/"
        },
        "id": "w378kosgmR6T",
        "outputId": "98dbad76-d61f-4a07-b106-8156193b483a"
      },
      "execution_count": 77,
      "outputs": [
        {
          "output_type": "stream",
          "name": "stdout",
          "text": [
            "{'user1', 'user2'}\n"
          ]
        }
      ]
    },
    {
      "cell_type": "markdown",
      "source": [
        "#  Describe how to add, modify, and delete items in a dictionary with examples."
      ],
      "metadata": {
        "id": "em_ywfdonZVx"
      }
    },
    {
      "cell_type": "code",
      "source": [
        "# Adding Items\n",
        "\"\"\"\n",
        "1. Adding a Single Item:\n",
        "You can add a new key-value pair to a dictionary by assigning a value to a new key. \"\"\"\n",
        "\n",
        "my_dict = {\"name\": \"Alice\", \"age\": 25}\n",
        "my_dict[\"city\"] = \"New York\"\n",
        "print(my_dict)\n",
        "\n",
        "# 2. Updating Multiple Items:\n",
        "\"\"\"\n",
        "You can add multiple items using the update() method. \"\"\"\n",
        "\n",
        "my_dict.update({\"email\": \"alice@example.com\", \"phone\": \"123-456-7890\"})\n",
        "print(my_dict)"
      ],
      "metadata": {
        "colab": {
          "base_uri": "https://localhost:8080/"
        },
        "id": "afIV56DxmqWf",
        "outputId": "3d63ea09-6e33-4f27-f55e-f4c11e0b388a"
      },
      "execution_count": 79,
      "outputs": [
        {
          "output_type": "stream",
          "name": "stdout",
          "text": [
            "{'name': 'Alice', 'age': 25, 'city': 'New York'}\n",
            "{'name': 'Alice', 'age': 25, 'city': 'New York', 'email': 'alice@example.com', 'phone': '123-456-7890'}\n"
          ]
        }
      ]
    },
    {
      "cell_type": "code",
      "source": [
        "# Modifying Items\n",
        "\"\"\"\n",
        "1. Modifying a Single Item:\n",
        "You can modify the value associated with an existing key by assigning a new value to that key. \"\"\"\n",
        "\n",
        "my_dict[\"age\"] = 26\n",
        "print(my_dict)\n",
        "\n",
        "# 2. Modifying Multiple Items:\n",
        "\"\"\"\n",
        "You can modify multiple items using the update() method. \"\"\"\n",
        "\n",
        "my_dict.update({\"city\": \"Los Angeles\", \"phone\": \"987-654-3210\"})\n",
        "print(my_dict)"
      ],
      "metadata": {
        "colab": {
          "base_uri": "https://localhost:8080/"
        },
        "id": "BMnLttTbn3J8",
        "outputId": "ce5cb08a-5b39-4be0-f3bc-ca3ae1ce0614"
      },
      "execution_count": 80,
      "outputs": [
        {
          "output_type": "stream",
          "name": "stdout",
          "text": [
            "{'name': 'Alice', 'age': 26, 'city': 'New York', 'email': 'alice@example.com', 'phone': '123-456-7890'}\n",
            "{'name': 'Alice', 'age': 26, 'city': 'Los Angeles', 'email': 'alice@example.com', 'phone': '987-654-3210'}\n"
          ]
        }
      ]
    },
    {
      "cell_type": "code",
      "source": [
        "# Deleting Items\n",
        "\"\"\"\n",
        "1. Using del Statement:\n",
        "You can delete a key-value pair using the del statement. \"\"\"\n",
        "\n",
        "del my_dict[\"email\"]\n",
        "print(my_dict)\n",
        "\n",
        "# 2. Using pop() Method:\n",
        "\"\"\"\n",
        "The pop() method removes the specified key and returns the corresponding value. If the key is not found, it raises a KeyError unless a default value is provided. \"\"\"\n",
        "\n",
        "phone = my_dict.pop(\"phone\")\n",
        "print(phone)    # Output: '987-654-3210'\n",
        "print(my_dict)\n",
        "\n",
        "# 3. Using popitem() Method:\n",
        "\"\"\"\n",
        "The popitem() method removes and returns the last inserted key-value pair as a tuple. This method is useful for treating the dictionary as a stack. \"\"\"\n",
        "\n",
        "last_item = my_dict.popitem()\n",
        "print(last_item)\n",
        "print(my_dict)\n",
        "\n",
        "# 4. Using clear() Method:\n",
        "\"\"\"\n",
        "The clear() method removes all items from the dictionary, leaving it empty. \"\"\"\n",
        "\n",
        "my_dict.clear()\n",
        "print(my_dict)"
      ],
      "metadata": {
        "colab": {
          "base_uri": "https://localhost:8080/"
        },
        "id": "ys6YBCuAogAJ",
        "outputId": "aa4cbbff-1dd7-4344-8ec6-b43a0a09d33c"
      },
      "execution_count": 81,
      "outputs": [
        {
          "output_type": "stream",
          "name": "stdout",
          "text": [
            "{'name': 'Alice', 'age': 26, 'city': 'Los Angeles', 'phone': '987-654-3210'}\n",
            "987-654-3210\n",
            "{'name': 'Alice', 'age': 26, 'city': 'Los Angeles'}\n",
            "('city', 'Los Angeles')\n",
            "{'name': 'Alice', 'age': 26}\n",
            "{}\n"
          ]
        }
      ]
    },
    {
      "cell_type": "markdown",
      "source": [
        "# 8. Discuss the importance of dictionary keys being immutable and provide examples."
      ],
      "metadata": {
        "id": "P1RIux6Pp6Xo"
      }
    },
    {
      "cell_type": "code",
      "source": [
        "# mportance of Immutable Dictionary Keys\n",
        "\"\"\"\n",
        "1. Hash Consistency:\n",
        "\n",
        "Definition: Keys are hashed for fast retrieval. Immutable keys ensure the hash value remains constant.  \"\"\"\n",
        "\n",
        "# Example with immutable key\n",
        "my_dict = {(\"Alice\", 25): \"Engineer\"}\n",
        "print(my_dict[(\"Alice\", 25)])\n",
        "\n",
        "# Example with mutable key\n",
        "# my_dict = {[1, 2, 3]: \"List\"}  # will raise an  Hashable error\n",
        ""
      ],
      "metadata": {
        "id": "7gXqN7bkpa0x"
      },
      "execution_count": null,
      "outputs": []
    },
    {
      "cell_type": "code",
      "source": [
        "# 2. Data Integrity:\n",
        "\"\"\"\n",
        "Definition: Immutable keys ensure that once a key is added to the dictionary, it cannot be altered, preserving the integrity of the dictionary.\n",
        "Importance: This ensures that the key-value relationship remains consistent and reliable throughout the dictionary’s lifetime. \"\"\"\n",
        "\n",
        "# Using a tuple (immutable) as a key\n",
        "data = {(1, 2): \"Point A\"}\n",
        "# data[(1, 2)] = \"New Point A\"  # This is valid\n",
        "\n",
        "# Using a list (mutable) as a key would fail\n",
        "# data[[1, 2]]"
      ],
      "metadata": {
        "id": "tC7VJZW-sUSN"
      },
      "execution_count": 82,
      "outputs": []
    },
    {
      "cell_type": "code",
      "source": [
        "# 3. Performance:\n",
        "\"\"\"\n",
        "Definition: Dictionaries use hash tables for fast data retrieval. Immutable keys provide a stable hash value that supports efficient lookups.\n",
        "Importance: This stability allows dictionaries to quickly locate and access values associated with keys. \"\"\"\n",
        "\n",
        "\n",
        "my_dict = {1: \"one\", 2: \"two\", 3: \"three\"}\n",
        "print(my_dict[2])\n"
      ],
      "metadata": {
        "colab": {
          "base_uri": "https://localhost:8080/"
        },
        "id": "ozyTAJHbsicu",
        "outputId": "d4ecbc43-1346-4cf1-902b-d5d16584e3e9"
      },
      "execution_count": 83,
      "outputs": [
        {
          "output_type": "stream",
          "name": "stdout",
          "text": [
            "two\n"
          ]
        }
      ]
    },
    {
      "cell_type": "code",
      "source": [
        "# 4. Consistency in Hashing:\n",
        "\"\"\"\n",
        "Definition: The hash value of an immutable key remains constant, ensuring that the key’s location in the hash table is stable.\n",
        "Importance: This consistency is critical for maintaining the integrity of dictionary operations, such as adding, deleting, and accessing key-value pairs. \"\"\"\n",
        "\n",
        "# Hash value is consistent for immutable keys\n",
        "key = (1, 2)\n",
        "print(hash(key))  # Output: consistent hash value\n",
        "\n",
        "# Mutable keys cannot be hashed\n",
        "# key = [1, 2]\n",
        "# print(hash(key))\n"
      ],
      "metadata": {
        "colab": {
          "base_uri": "https://localhost:8080/"
        },
        "id": "aaECJ1nEtYHz",
        "outputId": "e240b030-0f61-4086-fcf9-325e9a2c7d61"
      },
      "execution_count": 84,
      "outputs": [
        {
          "output_type": "stream",
          "name": "stdout",
          "text": [
            "-3550055125485641917\n"
          ]
        }
      ]
    },
    {
      "cell_type": "code",
      "source": [],
      "metadata": {
        "id": "b3-FnWjXt6R-"
      },
      "execution_count": null,
      "outputs": []
    }
  ]
}